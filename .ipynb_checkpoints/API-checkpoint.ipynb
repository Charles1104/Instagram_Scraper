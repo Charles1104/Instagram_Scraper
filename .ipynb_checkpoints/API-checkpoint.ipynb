{
 "cells": [
  {
   "cell_type": "code",
   "execution_count": 1,
   "metadata": {
    "collapsed": true
   },
   "outputs": [],
   "source": [
    "Client_ID = '27ad72f202204657a374dd6a9e6e4b60'\n",
    "Client_Secret = '46063098c7c3457f966eb96b83dae17d'\n",
    "Code = 'a6751022e5ea4dcd9faa617065807bf0'\n",
    "access_token= '6969420836.27ad72f.605072dbe10043d0a362e2d6a5b1d737'"
   ]
  },
  {
   "cell_type": "code",
   "execution_count": 6,
   "metadata": {},
   "outputs": [],
   "source": [
    "#get your info\n",
    "import requests\n",
    "import requests\n",
    "r = requests.get('https://api.instagram.com/v1/users/self/?access_token=6969420836.27ad72f.605072dbe10043d0a362e2d6a5b1d737')\n",
    "my_data = r.json()"
   ]
  },
  {
   "cell_type": "code",
   "execution_count": 7,
   "metadata": {},
   "outputs": [
    {
     "data": {
      "text/plain": [
       "dict"
      ]
     },
     "execution_count": 7,
     "metadata": {},
     "output_type": "execute_result"
    }
   ],
   "source": [
    "type(my_data)"
   ]
  },
  {
   "cell_type": "code",
   "execution_count": 8,
   "metadata": {},
   "outputs": [
    {
     "data": {
      "text/plain": [
       "{'data': {'bio': '',\n",
       "  'counts': {'followed_by': 0, 'follows': 0, 'media': 0},\n",
       "  'full_name': 'Charles Verleyen',\n",
       "  'id': '6969420836',\n",
       "  'is_business': False,\n",
       "  'profile_picture': 'https://instagram.fevn1-1.fna.fbcdn.net/vp/3230896e49952035c4a21d078561d30f/5B1DB27A/t51.2885-19/11906329_960233084022564_1448528159_a.jpg',\n",
       "  'username': 'charles.verleyen',\n",
       "  'website': ''},\n",
       " 'meta': {'code': 200}}"
      ]
     },
     "execution_count": 8,
     "metadata": {},
     "output_type": "execute_result"
    }
   ],
   "source": [
    "my_data"
   ]
  },
  {
   "cell_type": "code",
   "execution_count": null,
   "metadata": {
    "collapsed": true
   },
   "outputs": [],
   "source": []
  }
 ],
 "metadata": {
  "kernelspec": {
   "display_name": "Python 3",
   "language": "python",
   "name": "python3"
  },
  "language_info": {
   "codemirror_mode": {
    "name": "ipython",
    "version": 3
   },
   "file_extension": ".py",
   "mimetype": "text/x-python",
   "name": "python",
   "nbconvert_exporter": "python",
   "pygments_lexer": "ipython3",
   "version": "3.6.3"
  }
 },
 "nbformat": 4,
 "nbformat_minor": 2
}
